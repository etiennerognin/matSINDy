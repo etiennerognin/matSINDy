{
 "cells": [
  {
   "cell_type": "markdown",
   "id": "afcef3cf",
   "metadata": {},
   "source": [
    "# Loading data\n",
    "Data used by `matsindy` must be in the form of a dictionay `{'variable1':ndarray1, 'variable2':ndarray2, ...}`. There is no distinction between *observables* (aka system *coordinates* or *states*) and *controls* (*forcing terms* or *inputs*). Likewise, both scalar and matrix variables are referenced in the same dictionary, the distinction is made when evaluating the features library.\n",
    "\n",
    "It is the user's responsability to ensure that the length and dimensions are consistent. All variables should share the same length (`shape[0]`) as this is the time axis. Matrix variable should have two additional dimensions of equal size (square matrices) and shared among all matrix variables (at least matrices used in the same features). In other words:\n",
    "1. Scalar variables should be ndarrays of shape $(N,)$.\n",
    "2. Matrix variables should be ndarrays of shape $(N,D,D)$ (in most cases $D=3$)\n",
    "\n",
    "The data should also be consistent with assumed symmetry or skewness properties. Once the data is loaded, we can run `is_consistent` function to check this.\n",
    "\n",
    "This is the typical workflow:\n",
    "1. Import data (numpy load, loadtxt, genfromtxt, ... depending on the file format).\n",
    "2. Reshape arrays, apply simple feature operations such as rescaling or deformation/vorticity spliting.  \n",
    "3. Assemble data in a dictionary with chosen variable names.\n",
    "4. Run `is_consistent` to check dimensions and transpose compatibility."
   ]
  },
  {
   "cell_type": "code",
   "execution_count": 1,
   "id": "b2678e99",
   "metadata": {},
   "outputs": [],
   "source": [
    "import numpy as np\n",
    "from matsindy.feature_library import FeatureLibrary"
   ]
  },
  {
   "cell_type": "markdown",
   "id": "9d1bb017",
   "metadata": {},
   "source": [
    "We are going to load data which is already in the form of a dictionary using "
   ]
  },
  {
   "cell_type": "code",
   "execution_count": null,
   "id": "e210d582",
   "metadata": {},
   "outputs": [],
   "source": []
  }
 ],
 "metadata": {
  "kernelspec": {
   "display_name": "Python 3",
   "language": "python",
   "name": "python3"
  },
  "language_info": {
   "codemirror_mode": {
    "name": "ipython",
    "version": 3
   },
   "file_extension": ".py",
   "mimetype": "text/x-python",
   "name": "python",
   "nbconvert_exporter": "python",
   "pygments_lexer": "ipython3",
   "version": "3.7.8"
  }
 },
 "nbformat": 4,
 "nbformat_minor": 5
}
