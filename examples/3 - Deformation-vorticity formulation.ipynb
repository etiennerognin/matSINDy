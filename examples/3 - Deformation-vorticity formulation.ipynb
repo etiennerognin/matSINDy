{
 "cells": [
  {
   "cell_type": "markdown",
   "id": "afcef3cf",
   "metadata": {},
   "source": [
    "# Deformation-vorticity formulation\n",
    "\n",
    "We are going to repeat the same process, but with a different library, splitting ∇U into its symmetric and skew parts."
   ]
  },
  {
   "cell_type": "code",
   "execution_count": 1,
   "id": "b2678e99",
   "metadata": {},
   "outputs": [],
   "source": [
    "import numpy as np\n",
    "from matsindy.feature_library import FeatureLibrary\n",
    "\n",
    "from ipywidgets import interactive, fixed\n",
    "import ipywidgets as widgets\n",
    "%matplotlib inline\n",
    "import matplotlib.pyplot as plt\n",
    "from matplotlib.pyplot import cm\n",
    "plt.rcParams['figure.figsize'] = [15, 8]"
   ]
  },
  {
   "cell_type": "markdown",
   "id": "768c5436",
   "metadata": {},
   "source": [
    "## Load data"
   ]
  },
  {
   "cell_type": "markdown",
   "id": "9d1bb017",
   "metadata": {},
   "source": [
    "We are going to load data which is already in the form of a dictionary using `np.load`. This is a bead-rod model simulation of 100 polymer chains in a turbulent flow."
   ]
  },
  {
   "cell_type": "code",
   "execution_count": 2,
   "id": "e210d582",
   "metadata": {},
   "outputs": [],
   "source": [
    "dataset = np.load('dataset/turbulence_1_PD_Wi1000_nlinks1000_nmol100_lite.npz')"
   ]
  },
  {
   "cell_type": "markdown",
   "id": "9f3f690a",
   "metadata": {},
   "source": [
    "Let's have a look at the content:"
   ]
  },
  {
   "cell_type": "code",
   "execution_count": 3,
   "id": "f5b12391",
   "metadata": {},
   "outputs": [
    {
     "data": {
      "text/plain": [
       "['gradU', 'S_std', 'S_average', 't', 'A_average', 'A_std']"
      ]
     },
     "execution_count": 3,
     "metadata": {},
     "output_type": "execute_result"
    }
   ],
   "source": [
    "list(dataset.keys())"
   ]
  },
  {
   "cell_type": "markdown",
   "id": "b8f029c6",
   "metadata": {},
   "source": [
    "We rename the variables and use the D-W formuation:"
   ]
  },
  {
   "cell_type": "code",
   "execution_count": 4,
   "id": "f1d66607",
   "metadata": {},
   "outputs": [],
   "source": [
    "data = {'t': dataset['t'],\n",
    "        'D': 0.5*(dataset['gradU'] + np.transpose(dataset['gradU'], axes=(0, 2, 1))),\n",
    "        'W': 0.5*(dataset['gradU'] - np.transpose(dataset['gradU'], axes=(0, 2, 1))),\n",
    "        'S': dataset['S_average']\n",
    "       }\n",
    "\n",
    "variable_names = {'S', 'D', 'W'}\n",
    "transpose_map = {'S':'S', 'D':'D', 'W':'-W'}"
   ]
  },
  {
   "cell_type": "markdown",
   "id": "35d1431f",
   "metadata": {},
   "source": [
    "## Define features\n",
    "\n",
    "This process is explained in the first notebook. Here we bake a library of features which are second order in the stress and velocity gradient."
   ]
  },
  {
   "cell_type": "code",
   "execution_count": 5,
   "id": "85311241",
   "metadata": {},
   "outputs": [
    {
     "data": {
      "text/plain": [
       "Type of feature output: matrix\n",
       "Symmetry of features: symmetric\n",
       "Variables names: {'D', 'S', 'W'}\n",
       "Variables transpose map: {'S': 'S', 'D': 'D', 'W': '-W'}\n",
       "Number of feature_functions: 60\n",
       "(0)\tI\n",
       "(1)\tD\n",
       "(2)\tS\n",
       "(3)\tD∘S + (D∘S)ᵀ\n",
       "(4)\tD∘W + (D∘W)ᵀ\n",
       "(5)\tS∘S\n",
       "(6)\tS∘W + (S∘W)ᵀ\n",
       "(7)\tD∘S∘S + (D∘S∘S)ᵀ\n",
       "(8)\tD∘S∘W + (D∘S∘W)ᵀ\n",
       "(9)\tS∘D∘S\n",
       "(10)\tS∘D∘W + (S∘D∘W)ᵀ\n",
       "(11)\tS∘S∘W + (S∘S∘W)ᵀ\n",
       "(12)\tS∘W∘D + (S∘W∘D)ᵀ\n",
       "(13)\tS∘W∘S + (S∘W∘S)ᵀ\n",
       "(14)\tD∘S∘S∘W + (D∘S∘S∘W)ᵀ\n",
       "(15)\tD∘S∘W∘S + (D∘S∘W∘S)ᵀ\n",
       "(16)\tD∘W∘S∘S + (D∘W∘S∘S)ᵀ\n",
       "(17)\tS∘D∘S∘W + (S∘D∘S∘W)ᵀ\n",
       "(18)\tS∘D∘W∘S + (S∘D∘W∘S)ᵀ\n",
       "(19)\tS∘S∘D∘W + (S∘S∘D∘W)ᵀ\n",
       "(20)\ttr(S)I\n",
       "(21)\ttr(S)D\n",
       "(22)\ttr(S)S\n",
       "(23)\ttr(S)(D∘S + (D∘S)ᵀ)\n",
       "(24)\ttr(S)(D∘W + (D∘W)ᵀ)\n",
       "(25)\ttr(S)(S∘W + (S∘W)ᵀ)\n",
       "(26)\ttr(S)(D∘S∘W + (D∘S∘W)ᵀ)\n",
       "(27)\ttr(S)(S∘D∘W + (S∘D∘W)ᵀ)\n",
       "(28)\ttr(S)(S∘W∘D + (S∘W∘D)ᵀ)\n",
       "(29)\ttr(D∘S)I\n",
       "(30)\ttr(D∘S)S\n",
       "(31)\ttr(D∘S)(S∘W + (S∘W)ᵀ)\n",
       "(32)\ttr(D∘W)I\n",
       "(33)\ttr(D∘W)S\n",
       "(34)\ttr(D∘W)S∘S\n",
       "(35)\ttr(S∘S)I\n",
       "(36)\ttr(S∘S)D\n",
       "(37)\ttr(S∘S)(D∘W + (D∘W)ᵀ)\n",
       "(38)\ttr(S∘W)I\n",
       "(39)\ttr(S∘W)D\n",
       "(40)\ttr(S∘W)S\n",
       "(41)\ttr(S∘W)(D∘S + (D∘S)ᵀ)\n",
       "(42)\ttr(D∘S∘S)I\n",
       "(43)\ttr(D∘S∘W)I\n",
       "(44)\ttr(D∘S∘W)S\n",
       "(45)\ttr(S∘S∘W)I\n",
       "(46)\ttr(S∘S∘W)D\n",
       "(47)\ttr(D∘S∘S∘W)I\n",
       "(48)\ttr(D∘S∘W∘S)I\n",
       "(49)\t(tr(S))²I\n",
       "(50)\t(tr(S))²D\n",
       "(51)\t(tr(S))²(D∘W + (D∘W)ᵀ)\n",
       "(52)\ttr(S)tr(D∘S)I\n",
       "(53)\ttr(S)tr(D∘W)I\n",
       "(54)\ttr(S)tr(D∘W)S\n",
       "(55)\ttr(S)tr(S∘W)I\n",
       "(56)\ttr(S)tr(S∘W)D\n",
       "(57)\ttr(S)tr(D∘S∘W)I\n",
       "(58)\ttr(D∘S)tr(S∘W)I\n",
       "(59)\ttr(D∘W)tr(S∘S)I"
      ]
     },
     "execution_count": 5,
     "metadata": {},
     "output_type": "execute_result"
    }
   ],
   "source": [
    "# Matrix features\n",
    "library = FeatureLibrary.from_polynomial_matrices(variable_names=variable_names, \n",
    "                                                  transpose_map=transpose_map, \n",
    "                                                  n_terms=4, intercept=True, symmetry='symmetric')\n",
    "# Scalar features\n",
    "library_trace = FeatureLibrary.from_polynomial_traces(variable_names, transpose_map, n_terms=4, intercept=False)\n",
    "library_trace.remove_by_name('tr(D)')\n",
    "library_trace = library_trace + library_trace*library_trace\n",
    "\n",
    "# Combine and trim\n",
    "library = library + library_trace*library\n",
    "library.trim({'S':2, 'D':1, 'W':1})"
   ]
  },
  {
   "cell_type": "markdown",
   "id": "fbf53e72",
   "metadata": {},
   "source": [
    "## Evaluate features\n",
    "\n",
    "We evalulate the features from the original (noisy) data and store them in a list. These are features that would be used in a direct (*strong form*) application of SINDy."
   ]
  },
  {
   "cell_type": "code",
   "execution_count": 6,
   "id": "3ac63363",
   "metadata": {},
   "outputs": [],
   "source": [
    "features = []\n",
    "for featurize in library.feature_functions:\n",
    "    features.append(featurize(data))"
   ]
  },
  {
   "cell_type": "code",
   "execution_count": 7,
   "id": "70daf133",
   "metadata": {},
   "outputs": [
    {
     "data": {
      "application/vnd.jupyter.widget-view+json": {
       "model_id": "38e85ae7db2e4fcb98345388c9b1d3b2",
       "version_major": 2,
       "version_minor": 0
      },
      "text/plain": [
       "interactive(children=(Dropdown(description='Feature precursor:', options=(('I', 0), ('D', 1), ('S', 2), ('D∘S …"
      ]
     },
     "metadata": {},
     "output_type": "display_data"
    }
   ],
   "source": [
    "def inspect(feature_arg):\n",
    "\n",
    "    t = data['t']\n",
    "    f = features[feature_arg]\n",
    "    for i in range(3):\n",
    "        for j in range(i, 3):\n",
    "            plt.plot(t, f[:, i, j], linewidth=2, label=f'{i}{j}')\n",
    "    plt.legend()\n",
    "    plt.show()\n",
    "\n",
    "\n",
    "w = interactive(inspect, feature_arg=widgets.Dropdown(\n",
    "                    options=list(zip(library.feature_names, range(len(library)))),\n",
    "                    value=0,\n",
    "                    description='Feature precursor:',\n",
    "                    disabled=False,\n",
    "                    )\n",
    "               )\n",
    "w"
   ]
  },
  {
   "cell_type": "markdown",
   "id": "edeb6e0c",
   "metadata": {},
   "source": [
    "### Make weak-form features\n",
    "\n",
    "From the literature, weak-form SINDy is more resilient to noisy data. The weak form is simply achieved by projection (weighted sum in our case) onto test functions. Here, we call the test functions *windows*, refering to signal processing. Sampling the weak-form problem is then, for each window, projecting the stress or conformtation tensor onto `diff(window)` and each feature onto `window`, where `diff` is a finite differenciation function. In this descrete setting, the strong-form problem with Euler scheme is actually a special case where `window = [0, 1, 0]` and `diff(window) = [0, -1, 1]`.\n",
    "\n",
    "A few important remarks:\n",
    "\n",
    "1. Using windows with a larger support acts as a low-pass filter on the features. However, as pointed out by (https://arxiv.org/abs/2005.04339), features are evaluated before this filtering occurs, so that no assumption is made on the smoothness of the origninal data.\n",
    "\n",
    "2. It is not obvious which window shape we should use. Some are better at filtering out high frequencies but is this really what matters? In our case, we don't know much about the properties of the noise. For example, using a rectangular window is not the best choice for noise, but it brings the problem closer to what we ultimately want to do: evaluate the stress (and not the rate of change, which is only a proxy). Applying a rectangular window is like integrating the data over chunks of time, producing an appraoch similar to that of Hayden Schaeffer and Scott G. McCalla, https://doi.org/10.1103/PhysRevE.96.023302, but avoiding drift.\n",
    "\n",
    "3. We don't go into the complications of optimal window placement, which is a data selection process after all. At this point, we are still agnostic about the information content of the data, and we make the following choice: for a given window size, windows are distributed to cover the entire data but don't overlap (some data points at the end of the simulated scenario may be excluded). Therefore this approach is equivalent to a low-pass filtering followed by downsampling (in signal processing sense): if we choose a window size greater than one, we end up with less data in the weak form. Now, we can do this process with different window sizes and shapes, and regenerate as many weak-form data points as we want."
   ]
  },
  {
   "cell_type": "code",
   "execution_count": 8,
   "id": "3eda4d6a",
   "metadata": {},
   "outputs": [
    {
     "data": {
      "image/png": "[encoded data removed]",
      "text/plain": [
       "<Figure size 1080x360 with 2 Axes>"
      ]
     },
     "metadata": {
      "needs_background": "light"
     },
     "output_type": "display_data"
    }
   ],
   "source": [
    "from matsindy.weak import make_window\n",
    "\n",
    "active_length = 1\n",
    "\n",
    "window = make_window(active_length, 'rectangular')\n",
    "\n",
    "width = len(window)\n",
    "x = np.arange(width)\n",
    "#print(window)\n",
    "wind_diff = np.zeros(width)\n",
    "# derivative: \n",
    "wind_diff[1:] = -np.diff(window)\n",
    "plt.rcParams['figure.figsize'] = [15, 5]\n",
    "fig, ax = plt.subplots(ncols=2)\n",
    "ax[0].bar(x, window, width=0.01*width)\n",
    "ax[0].plot(window,'o',markersize=10)\n",
    "ax[0].set_title('Test function $\\phi$')\n",
    "ax[1].bar(x, wind_diff, width=0.01*width)\n",
    "ax[1].plot(wind_diff,'o',markersize=10)\n",
    "ax[1].set_title('Time derivative of the test function $\\dot\\phi$')\n",
    "plt.show()"
   ]
  },
  {
   "cell_type": "code",
   "execution_count": 9,
   "id": "9498f182",
   "metadata": {},
   "outputs": [],
   "source": [
    "from matsindy.weak import weak_diff, weak_form\n",
    "\n",
    "# Target\n",
    "\n",
    "dt = data['t'][1]-data['t'][0]  # Assuming uniform time-step\n",
    "ys = weak_diff(data['S'], dt, window)\n",
    "\n",
    "# Weak-form features\n",
    "wfeatures = np.array([weak_form(feature, dt, window) for feature in features])"
   ]
  },
  {
   "cell_type": "markdown",
   "id": "523739a4",
   "metadata": {},
   "source": [
    "## Assemble matrix before regression \n",
    "\n",
    "Note: at this point, time differentiation has already been done, so the order of data points doesn't matter. We split the data into a training set and a testing set."
   ]
  },
  {
   "cell_type": "code",
   "execution_count": 16,
   "id": "1e382589",
   "metadata": {},
   "outputs": [
    {
     "name": "stdout",
     "output_type": "stream",
     "text": [
      "(694, 3, 3)\n",
      "(60, 694, 3, 3)\n"
     ]
    }
   ],
   "source": [
    "train_size = 0.5\n",
    "\n",
    "train_mask = np.zeros(len(ys), dtype='bool')\n",
    "train_mask[:int(len(ys)*train_size)] = True\n",
    "np.random.seed(2023)\n",
    "np.random.shuffle(train_mask)\n",
    "\n",
    "print(ys.shape)\n",
    "print(wfeatures.shape)\n",
    "\n",
    "ys_train, ys_test = ys[train_mask], ys[~train_mask]\n",
    "wfeatures_train, wfeatures_test = wfeatures[:,train_mask], wfeatures[:,~train_mask]"
   ]
  },
  {
   "cell_type": "code",
   "execution_count": 17,
   "id": "f9652996",
   "metadata": {},
   "outputs": [],
   "source": [
    "# Reshape\n",
    "y_train, y_test = ys_train.flatten(), ys_test.flatten()\n",
    "\n",
    "X_train = wfeatures_train.reshape((len(wfeatures), len(y_train))).T\n",
    "X_test = wfeatures_test.reshape((len(wfeatures), len(y_test))).T"
   ]
  },
  {
   "cell_type": "code",
   "execution_count": 18,
   "id": "dd36c5d8",
   "metadata": {},
   "outputs": [
    {
     "name": "stdout",
     "output_type": "stream",
     "text": [
      "Number of features:  60\n",
      "Rank of X_train: 37\n"
     ]
    }
   ],
   "source": [
    "print('Number of features: ', len(wfeatures))\n",
    "print('Rank of X_train:', np.linalg.matrix_rank(X_train))"
   ]
  },
  {
   "cell_type": "markdown",
   "id": "b200a855",
   "metadata": {},
   "source": [
    "## Regression\n",
    "\n",
    "Any algorithm utilising the value of the coefficient to select the models (such as vanilla SINDy) will be sensitive to feature scaling. This may be a problem if an important active term has a low coefficient and therefore cannot be distinguished from noise. Another difficulty is correlation between features, which can cause large coefficient while the combined effect of feature is small.\n",
    "\n",
    "Here we use a greedy algorithm that removes features based on the information provided by the data. We use a least-squares (optionally regularized) algorithm to fit the coefficients, then we remove the coefficient which has the lowest information score (similar to a p-value)"
   ]
  },
  {
   "cell_type": "code",
   "execution_count": 23,
   "id": "350279ce",
   "metadata": {},
   "outputs": [
    {
     "name": "stdout",
     "output_type": "stream",
     "text": [
      "Running SSR...\n"
     ]
    },
    {
     "name": "stderr",
     "output_type": "stream",
     "text": [
      "100%|██████████| 60/60 [00:00<00:00, 218.01it/s]\n"
     ]
    },
    {
     "name": "stdout",
     "output_type": "stream",
     "text": [
      "Running SSR_var...\n"
     ]
    },
    {
     "name": "stderr",
     "output_type": "stream",
     "text": [
      "100%|██████████| 60/60 [00:00<00:00, 140.32it/s]\n"
     ]
    },
    {
     "name": "stdout",
     "output_type": "stream",
     "text": [
      "Running SSR...\n"
     ]
    },
    {
     "name": "stderr",
     "output_type": "stream",
     "text": [
      "100%|██████████| 60/60 [00:00<00:00, 284.54it/s]\n"
     ]
    }
   ],
   "source": [
    "from matsindy.optimizer import SSR, SSR_var, SSRD\n",
    "\n",
    "generated_models = {\n",
    "    'SSR': SSR(X_train, y_train, rescale=False, alpha=0),\n",
    "    'SSR var': SSR_var(X_train, y_train, alpha=0),\n",
    "    'SSRD' : SSR(X_train, y_train, alpha=0)\n",
    "    \n",
    "}"
   ]
  },
  {
   "cell_type": "markdown",
   "id": "7ed2cc50",
   "metadata": {},
   "source": [
    "We compute the cross-validation errors:"
   ]
  },
  {
   "cell_type": "code",
   "execution_count": 24,
   "id": "b419ab2b",
   "metadata": {},
   "outputs": [],
   "source": [
    "errors = {}\n",
    "cvs = {}\n",
    "num_terms = {}\n",
    "for optim, models in generated_models.items():\n",
    "    errors[optim] = list(model.error for model in models)\n",
    "    cvs[optim] = list(model.compute_cv(X_test, y_test) for model in models)\n",
    "    num_terms[optim] = list(model.num_terms for model in models)"
   ]
  },
  {
   "cell_type": "code",
   "execution_count": 25,
   "id": "fd232a3d",
   "metadata": {},
   "outputs": [
    {
     "data": {
      "application/vnd.jupyter.widget-view+json": {
       "model_id": "af65b413789842a592e844b072bd52a2",
       "version_major": 2,
       "version_minor": 0
      },
      "text/plain": [
       "interactive(children=(SelectMultiple(description='Algorithms', index=(0, 1, 2), options=('SSR', 'SSR var', 'SS…"
      ]
     },
     "metadata": {},
     "output_type": "display_data"
    }
   ],
   "source": [
    "def view_errors(keys, display_cv, display_10):\n",
    "    color = iter(cm.Dark2(np.linspace(0, 1, len(keys))))\n",
    "    for i, optim in enumerate(keys):\n",
    "        c = next(color)\n",
    "        plt.semilogy(num_terms[optim], errors[optim], 'o-', c=c, label=optim)\n",
    "        if display_cv:\n",
    "            plt.semilogy(num_terms[optim], cvs[optim], '*-', c=c, label=optim+' cv')\n",
    "    plt.grid(which='both')\n",
    "    plt.legend()\n",
    "    if display_10:\n",
    "        plt.xlim(1,10)\n",
    "    plt.show()\n",
    "\n",
    "we = interactive(view_errors, \n",
    "                 keys=widgets.SelectMultiple(\n",
    "                    options=list(errors.keys()),\n",
    "                    value=list(errors.keys()),\n",
    "                    #rows=10,\n",
    "                    description='Algorithms',\n",
    "                    disabled=False\n",
    "                    ),\n",
    "                 display_cv = widgets.Checkbox(\n",
    "                    value=False,\n",
    "                    description='Display cross-validation',\n",
    "                                ),\n",
    "                 display_10 = widgets.Checkbox(\n",
    "                    value=False,\n",
    "                    description='Display up to 10 terms',\n",
    "                                )\n",
    "                )\n",
    "we"
   ]
  },
  {
   "cell_type": "code",
   "execution_count": 26,
   "id": "30945306",
   "metadata": {},
   "outputs": [
    {
     "data": {
      "application/vnd.jupyter.widget-view+json": {
       "model_id": "3b06ae086c98481f90f01270262f1b60",
       "version_major": 2,
       "version_minor": 0
      },
      "text/plain": [
       "interactive(children=(Dropdown(description='optim', options=('SSR', 'SSR var', 'SSRD'), value='SSR'), Dropdown…"
      ]
     },
     "metadata": {},
     "output_type": "display_data"
    }
   ],
   "source": [
    "def view_model(optim, model):  \n",
    "    print(optim)\n",
    "    model.print(library)\n",
    "    # Plot error dist\n",
    "    y_hat = model.predict(X_train)\n",
    "    \n",
    "    fig, ax = plt.subplots(ncols=2)\n",
    "    \n",
    "    ax[0].plot(y_train, y_train, '-', c='gray')\n",
    "    ax[0].plot(y_train, y_hat, '.', alpha=0.1)\n",
    "    ax[0].set_ylabel('Predicted value')\n",
    "    ax[0].set_xlabel('Training value')\n",
    "    ax[0].set_title('Prediction')\n",
    "    \n",
    "    ax[1].hist(y_train-y_hat, bins=200)\n",
    "    ax[1].set_yscale('log', nonposy='clip')\n",
    "    ax[1].set_title('Residuals')\n",
    "    plt.show()\n",
    "\n",
    "x_widget = widgets.Dropdown(options = list(generated_models.keys()))\n",
    "y_widget = widgets.Dropdown()\n",
    "\n",
    "# Define a function that updates the content of y based on what we select for x\n",
    "def update_models(*args):\n",
    "    y_widget.options = list((model.num_terms, model) for model in generated_models[x_widget.value])\n",
    "x_widget.observe(update_models)\n",
    "\n",
    "\n",
    "wm = interactive(view_model,\n",
    "         optim = x_widget,\n",
    "         model = y_widget)\n",
    "wm"
   ]
  },
  {
   "cell_type": "markdown",
   "id": "698aa7fa",
   "metadata": {},
   "source": []
  }
 ],
 "metadata": {
  "kernelspec": {
   "display_name": "Python 3",
   "language": "python",
   "name": "python3"
  },
  "language_info": {
   "codemirror_mode": {
    "name": "ipython",
    "version": 3
   },
   "file_extension": ".py",
   "mimetype": "text/x-python",
   "name": "python",
   "nbconvert_exporter": "python",
   "pygments_lexer": "ipython3",
   "version": "3.7.8"
  }
 },
 "nbformat": 4,
 "nbformat_minor": 5
}
