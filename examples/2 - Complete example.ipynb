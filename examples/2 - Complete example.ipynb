{
 "cells": [
  {
   "cell_type": "markdown",
   "id": "afcef3cf",
   "metadata": {},
   "source": [
    "# Complete example\n",
    "Data used by `matsindy` must be in the form of a dictionay `{'variable1':ndarray1, 'variable2':ndarray2, ...}`. There is no distinction between *observables* (aka system *coordinates* or *states*) and *controls* (*forcing terms* or *inputs*). Likewise, both scalar and matrix variables are referenced in the same dictionary, the distinction is made when evaluating the features library.\n",
    "\n",
    "It is the user's responsability to ensure that the length and dimensions are consistent. All variables should share the same length (`shape[0]`) as this is the time axis. Matrix variable should have two additional dimensions of equal size (square matrices) and shared among all matrix variables (at least matrices used in the same features). In other words:\n",
    "1. Scalar variables should be ndarrays of shape $(N,)$.\n",
    "2. Matrix variables should be ndarrays of shape $(N,D,D)$ (in most cases $D=3$)\n",
    "\n",
    "The data should also be consistent with assumed symmetry or skewness properties. Once the data is loaded, we can run `is_consistent` function to check this.\n",
    "\n",
    "This is the typical workflow:\n",
    "1. Import data (numpy load, loadtxt, genfromtxt, ... depending on the file format).\n",
    "2. Reshape arrays, apply simple feature operations such as rescaling or deformation/vorticity spliting.  \n",
    "3. Assemble data in a dictionary with chosen variable names.\n",
    "4. Run `is_consistent` to check dimensions and transpose compatibility."
   ]
  },
  {
   "cell_type": "code",
   "execution_count": 1,
   "id": "b2678e99",
   "metadata": {},
   "outputs": [],
   "source": [
    "import numpy as np\n",
    "from matsindy.feature_library import FeatureLibrary\n",
    "\n",
    "from ipywidgets import interactive, fixed\n",
    "import ipywidgets as widgets\n",
    "%matplotlib inline\n",
    "import matplotlib.pyplot as plt\n",
    "from matplotlib.pyplot import cm\n",
    "plt.rcParams['figure.figsize'] = [15, 8]"
   ]
  },
  {
   "cell_type": "markdown",
   "id": "768c5436",
   "metadata": {},
   "source": [
    "## Load data"
   ]
  },
  {
   "cell_type": "markdown",
   "id": "9d1bb017",
   "metadata": {},
   "source": [
    "We are going to load data which is already in the form of a dictionary using `np.load`. This is a bead-rod model simulation of 100 polymer chains in a turbulent flow with a [Weissenberg number](https://en.wikipedia.org/wiki/Weissenberg_number) of the order of 10.\n",
    "\n",
    "We load multiple simulation files (corresponding to different trajectories in the flow), and put everything in a dictionary named `dataset`."
   ]
  },
  {
   "cell_type": "code",
   "execution_count": 2,
   "id": "e210d582",
   "metadata": {},
   "outputs": [],
   "source": [
    "trajectories = {\n",
    "    'turbulence_0': 'turbulence_0_PD_Wi10_nlinks200_nmol100_lite.npz',\n",
    "    'turbulence_1': 'turbulence_1_PD_Wi10_nlinks200_nmol100_lite.npz',\n",
    "    'turbulence_2': 'turbulence_2_PD_Wi10_nlinks200_nmol100_lite.npz',\n",
    "    'turbulence_3': 'turbulence_3_PD_Wi10_nlinks200_nmol100_lite.npz',\n",
    "    'turbulence_4': 'turbulence_4_PD_Wi10_nlinks200_nmol100_lite.npz'\n",
    "}\n",
    "\n",
    "dataset = {}\n",
    "\n",
    "for trajectory, file in trajectories.items():\n",
    "    dataset[trajectory] = np.load(f'dataset/{file}')"
   ]
  },
  {
   "cell_type": "markdown",
   "id": "9f3f690a",
   "metadata": {},
   "source": [
    "Let's have a look at the content of one of the files:"
   ]
  },
  {
   "cell_type": "code",
   "execution_count": 3,
   "id": "f5b12391",
   "metadata": {},
   "outputs": [
    {
     "data": {
      "text/plain": [
       "['S_std', 'S_average', 't', 'A_std', 'gradU', 'A_average']"
      ]
     },
     "execution_count": 3,
     "metadata": {},
     "output_type": "execute_result"
    }
   ],
   "source": [
    "list(dataset['turbulence_0'].keys())"
   ]
  },
  {
   "cell_type": "markdown",
   "id": "b8f029c6",
   "metadata": {},
   "source": [
    "In these simulations (see https://github.com/etiennerognin/DiluteBrownianDynamics), `t` is the time, `gradU` is the velocity gradient of the solvent (so it is the forcing term), `S` is the stress tensor and `A` the conformation tensor. As this is an ensemble simulation of many polymer chains, both the average and standard deviation are computed.\n",
    "\n",
    "In this example, we are going to look for a constitutive equation of the stress:\n",
    "$$\n",
    "\\frac{\\partial S}{\\partial t} = \\sum \\beta_i f_i \\left(S, \\nabla U \\right)\n",
    "$$\n",
    "where $f_i$ will be the features.\n",
    "\n",
    "Now we rename the variables and add $\\nabla U ^T$ to the dataset (since $S$ is symmetric, $S^T$ is already in the dataset):"
   ]
  },
  {
   "cell_type": "code",
   "execution_count": 4,
   "id": "f1d66607",
   "metadata": {},
   "outputs": [],
   "source": [
    "for trajectory, data in dataset.items():\n",
    "    temp = {'t': data['t'],\n",
    "            '∇U': data['gradU'],\n",
    "            '∇Uᵀ': np.transpose(data['gradU'], axes=(0, 2, 1)),\n",
    "            'S': data['S_average']\n",
    "           }\n",
    "    dataset[trajectory] = temp\n",
    "\n",
    "variable_names = {'S', '∇U', '∇Uᵀ'}\n",
    "transpose_map = {'S':'S', '∇U':'∇Uᵀ', '∇Uᵀ':'∇U'}"
   ]
  },
  {
   "cell_type": "markdown",
   "id": "35d1431f",
   "metadata": {},
   "source": [
    "## Define features\n",
    "\n",
    "This process is explained in the first notebook. Here we bake a library of features which are second order in the stress and velocity gradient."
   ]
  },
  {
   "cell_type": "code",
   "execution_count": 5,
   "id": "85311241",
   "metadata": {},
   "outputs": [
    {
     "data": {
      "text/plain": [
       "Type of feature output: matrix\n",
       "Symmetry of features: symmetric\n",
       "Variables names: {'∇U', '∇Uᵀ', 'S'}\n",
       "Variables transpose map: {'S': 'S', '∇U': '∇Uᵀ', '∇Uᵀ': '∇U'}\n",
       "Number of feature_functions: 22\n",
       "(0)\tI\n",
       "(1)\tS\n",
       "(2)\t∇U + (∇U)ᵀ\n",
       "(3)\tS∘S\n",
       "(4)\tS∘∇U + (S∘∇U)ᵀ\n",
       "(5)\tS∘∇Uᵀ + (S∘∇Uᵀ)ᵀ\n",
       "(6)\tS∘S∘∇U + (S∘S∘∇U)ᵀ\n",
       "(7)\tS∘S∘∇Uᵀ + (S∘S∘∇Uᵀ)ᵀ\n",
       "(8)\tS∘∇U∘S + (S∘∇U∘S)ᵀ\n",
       "(9)\ttr(S)I\n",
       "(10)\ttr(S)S\n",
       "(11)\ttr(S)(∇U + (∇U)ᵀ)\n",
       "(12)\ttr(S)(S∘∇U + (S∘∇U)ᵀ)\n",
       "(13)\ttr(S)(S∘∇Uᵀ + (S∘∇Uᵀ)ᵀ)\n",
       "(14)\ttr(S∘S)I\n",
       "(15)\ttr(S∘S)(∇U + (∇U)ᵀ)\n",
       "(16)\ttr(S∘∇U)I\n",
       "(17)\ttr(S∘∇U)S\n",
       "(18)\ttr(S∘S∘∇U)I\n",
       "(19)\t(tr(S))²I\n",
       "(20)\t(tr(S))²(∇U + (∇U)ᵀ)\n",
       "(21)\ttr(S)tr(S∘∇U)I"
      ]
     },
     "execution_count": 5,
     "metadata": {},
     "output_type": "execute_result"
    }
   ],
   "source": [
    "# Matrix features\n",
    "library = FeatureLibrary.from_polynomial_matrices(variable_names=variable_names, \n",
    "                                                  transpose_map=transpose_map, \n",
    "                                                  n_terms=3, intercept=True, symmetry='symmetric')\n",
    "# Scalar features\n",
    "library_trace = FeatureLibrary.from_polynomial_traces(variable_names, transpose_map, n_terms=4, intercept=False)\n",
    "library_trace.remove_by_name('tr(∇U)')\n",
    "library_trace = library_trace + library_trace*library_trace\n",
    "\n",
    "# Combine and trim\n",
    "library = library + library_trace*library\n",
    "library.trim({'S':2, '∇U':1})"
   ]
  },
  {
   "cell_type": "markdown",
   "id": "fbf53e72",
   "metadata": {},
   "source": [
    "## Evaluate features\n",
    "\n",
    "We evalulate the features from the original (noisy) data and store them in a list. These are features that would be used in a direct (*strong form*) application of SINDy."
   ]
  },
  {
   "cell_type": "code",
   "execution_count": 6,
   "id": "3ac63363",
   "metadata": {},
   "outputs": [],
   "source": [
    "for trajectory, data in dataset.items():\n",
    "    features = []\n",
    "    for featurize in library.feature_functions:\n",
    "        features.append(featurize(data))\n",
    "    dataset[trajectory]['features'] = features"
   ]
  },
  {
   "cell_type": "code",
   "execution_count": 7,
   "id": "70daf133",
   "metadata": {},
   "outputs": [
    {
     "data": {
      "application/vnd.jupyter.widget-view+json": {
       "model_id": "93034028fbf44b99ae2c0ad2551c96a0",
       "version_major": 2,
       "version_minor": 0
      },
      "text/plain": [
       "interactive(children=(Dropdown(description='Scenario:', options=('turbulence_0', 'turbulence_1', 'turbulence_2…"
      ]
     },
     "metadata": {},
     "output_type": "display_data"
    }
   ],
   "source": [
    "def inspect(trajectory, feature_arg):\n",
    "\n",
    "    t = dataset[trajectory]['t']\n",
    "    f = dataset[trajectory]['features'][feature_arg]\n",
    "    for i in range(3):\n",
    "        for j in range(i, 3):\n",
    "            plt.plot(t, f[:, i, j], linewidth=2, label=f'{i}{j}')\n",
    "    plt.legend()\n",
    "    plt.show()\n",
    "\n",
    "\n",
    "w = interactive(inspect, \n",
    "                trajectory=widgets.Dropdown(\n",
    "                    options=list(dataset.keys()),\n",
    "                    value=next(iter(dataset.keys())),\n",
    "                    description='Scenario:',\n",
    "                    disabled=False,\n",
    "                    ),\n",
    "                feature_arg=widgets.Dropdown(\n",
    "                    options=list(zip(library.feature_names, range(len(library)))),\n",
    "                    value=0,\n",
    "                    description='Feature precursor:',\n",
    "                    disabled=False,\n",
    "                    )\n",
    "               )\n",
    "w"
   ]
  },
  {
   "cell_type": "markdown",
   "id": "edeb6e0c",
   "metadata": {},
   "source": [
    "### Make weak-form features\n",
    "\n",
    "From the literature, weak-form SINDy is more resilient to noisy data. The weak form is simply achieved by projection (weighted sum in our case) onto test functions. Here, we call the test functions *windows*, refering to signal processing. Sampling the weak-form problem is then, for each window, projecting the stress or conformtation tensor onto `diff(window)` and each feature onto `window`, where `diff` is a finite differenciation function. In this descrete setting, the strong-form problem with Euler scheme is actually a special case where `window = [0, 1, 0]` and `diff(window) = [0, -1, 1]`.\n",
    "\n",
    "A few important remarks:\n",
    "\n",
    "1. Using windows with a larger support acts as a low-pass filter on the features. However, as pointed out by (https://arxiv.org/abs/2005.04339), features are evaluated before this filtering occurs, so that no assumption is made on the smoothness of the origninal data.\n",
    "\n",
    "2. It is not obvious which window shape we should use. Some are better at filtering out high frequencies but is this really what matters? In our case, we don't know much about the properties of the noise. For example, using a rectangular window is not the best choice for noise, but it brings the problem closer to what we ultimately want to do: evaluate the stress (and not the rate of change, which is only a proxy). Applying a rectangular window is like integrating the data over chunks of time, producing an appraoch similar to that of Hayden Schaeffer and Scott G. McCalla, https://doi.org/10.1103/PhysRevE.96.023302, but avoiding drift.\n",
    "\n",
    "3. We don't go into the complications of optimal window placement, which is a data selection process after all. At this point, we are still agnostic about the information content of the data, and we make the following choice: for a given window size, windows are distributed to cover the entire data but don't overlap (some data points at the end of the simulated scenario may be excluded). Therefore this approach is equivalent to a low-pass filtering followed by downsampling (in signal processing sense): if we choose a window size greater than one, we end up with less data in the weak form. Now, we can do this process with different window sizes and shapes, and regenerate as many weak-form data points as we want."
   ]
  },
  {
   "cell_type": "code",
   "execution_count": 8,
   "id": "3eda4d6a",
   "metadata": {},
   "outputs": [
    {
     "data": {
      "image/png": "[encoded data removed]",
      "text/plain": [
       "<Figure size 1080x360 with 2 Axes>"
      ]
     },
     "metadata": {
      "needs_background": "light"
     },
     "output_type": "display_data"
    }
   ],
   "source": [
    "from matsindy.weak import make_window\n",
    "\n",
    "active_length = 10\n",
    "\n",
    "window = make_window(active_length, 'rectangular')\n",
    "\n",
    "width = len(window)\n",
    "x = np.arange(width)\n",
    "#print(window)\n",
    "wind_diff = np.zeros(width)\n",
    "# derivative: \n",
    "wind_diff[1:] = -np.diff(window)\n",
    "plt.rcParams['figure.figsize'] = [15, 5]\n",
    "fig, ax = plt.subplots(ncols=2)\n",
    "ax[0].bar(x, window, width=0.01*width)\n",
    "ax[0].plot(window,'o',markersize=10)\n",
    "ax[0].set_title('Test function $\\phi$')\n",
    "ax[1].bar(x, wind_diff, width=0.01*width)\n",
    "ax[1].plot(wind_diff,'o',markersize=10)\n",
    "ax[1].set_title('Time derivative of the test function $\\dot\\phi$')\n",
    "plt.show()"
   ]
  },
  {
   "cell_type": "code",
   "execution_count": 9,
   "id": "9498f182",
   "metadata": {},
   "outputs": [],
   "source": [
    "from matsindy.weak import weak_diff, weak_form\n",
    "\n",
    "for trajectory, data in dataset.items():\n",
    "    # Target\n",
    "    dt = data['t'][1]-data['t'][0]  # Assuming uniform time-step\n",
    "    dataset[trajectory]['ys'] = weak_diff(data['S'], dt, window)\n",
    "\n",
    "    # Weak-form features\n",
    "    dataset[trajectory]['wfeatures'] = np.array([weak_form(feature, dt, window) for feature in data['features']])"
   ]
  },
  {
   "cell_type": "markdown",
   "id": "523739a4",
   "metadata": {},
   "source": [
    "## Assemble matrix before regression \n",
    "\n",
    "Note: at this point, time differentiation has already been done, so the order of data points doesn't matter. \n",
    "\n",
    "We split the data into a training set and a testing set. For this, we select at least one test trajectory from the dataset."
   ]
  },
  {
   "cell_type": "code",
   "execution_count": 23,
   "id": "b71bb8cc",
   "metadata": {},
   "outputs": [],
   "source": [
    "test_set = {'turbulence_0', 'turbulence_1'}\n",
    "train_set = dataset.keys() - test_set"
   ]
  },
  {
   "cell_type": "code",
   "execution_count": 24,
   "id": "f9652996",
   "metadata": {},
   "outputs": [],
   "source": [
    "# Reshape and assemble\n",
    "y_train = np.hstack([dataset[trajectory]['ys'].flatten() for trajectory in train_set])\n",
    "y_test = np.hstack([dataset[trajectory]['ys'].flatten() for trajectory in test_set])\n",
    "\n",
    "\n",
    "X_train = []\n",
    "for trajectory in train_set:\n",
    "    flat_features = [feature.flatten() for feature in dataset[trajectory]['wfeatures']]\n",
    "    X = np.array(flat_features)\n",
    "    X_train.append(X.T)\n",
    "X_train = np.vstack(X_train)\n",
    "\n",
    "X_test = []\n",
    "for trajectory in test_set:\n",
    "    flat_features = [feature.flatten() for feature in dataset[trajectory]['wfeatures']]\n",
    "    X = np.array(flat_features)\n",
    "    X_test.append(X.T)\n",
    "X_test = np.vstack(X_test)\n"
   ]
  },
  {
   "cell_type": "code",
   "execution_count": 25,
   "id": "dd36c5d8",
   "metadata": {},
   "outputs": [
    {
     "name": "stdout",
     "output_type": "stream",
     "text": [
      "Number of features:  22\n",
      "Rank of X_train: 21\n"
     ]
    }
   ],
   "source": [
    "print('Number of features: ', len(library))\n",
    "print('Rank of X_train:', np.linalg.matrix_rank(X_train))"
   ]
  },
  {
   "cell_type": "markdown",
   "id": "b200a855",
   "metadata": {},
   "source": [
    "## Regression\n",
    "\n",
    "Any algorithm utilising the value of the coefficient to select the models (such as vanilla SINDy) will be sensitive to feature scaling. This may be a problem if an important active term has a low coefficient and therefore cannot be distinguished from noise. Another difficulty is correlation between features, which can cause large coefficient while the combined effect of feature is small.\n",
    "\n",
    "Here we use a greedy algorithm that removes features based on the information provided by the data. We use a least-squares (optionally regularized) algorithm to fit the coefficients, then we remove the coefficient which has the lowest information score (similar to a p-value)"
   ]
  },
  {
   "cell_type": "code",
   "execution_count": 26,
   "id": "350279ce",
   "metadata": {},
   "outputs": [
    {
     "name": "stdout",
     "output_type": "stream",
     "text": [
      "Running SSR...\n"
     ]
    },
    {
     "name": "stderr",
     "output_type": "stream",
     "text": [
      "100%|██████████| 22/22 [00:00<00:00, 277.92it/s]\n"
     ]
    },
    {
     "name": "stdout",
     "output_type": "stream",
     "text": [
      "Running SSR_var...\n"
     ]
    },
    {
     "name": "stderr",
     "output_type": "stream",
     "text": [
      "100%|██████████| 22/22 [00:00<00:00, 144.16it/s]\n"
     ]
    }
   ],
   "source": [
    "from matsindy.optimizer import SSR, SSR_var\n",
    "\n",
    "generated_models = {\n",
    "    'SSR': SSR(X_train, y_train, rescale=True, alpha=0),\n",
    "    'SSR var': SSR_var(X_train, y_train, alpha=0),\n",
    "    \n",
    "}"
   ]
  },
  {
   "cell_type": "markdown",
   "id": "7ed2cc50",
   "metadata": {},
   "source": [
    "We compute the cross-validation errors:"
   ]
  },
  {
   "cell_type": "code",
   "execution_count": 27,
   "id": "b419ab2b",
   "metadata": {},
   "outputs": [],
   "source": [
    "errors = {}\n",
    "cvs = {}\n",
    "num_terms = {}\n",
    "for optim, models in generated_models.items():\n",
    "    errors[optim] = list(model.error for model in models)\n",
    "    cvs[optim] = list(model.compute_cv(X_test, y_test) for model in models)\n",
    "    num_terms[optim] = list(model.num_terms for model in models)"
   ]
  },
  {
   "cell_type": "code",
   "execution_count": 28,
   "id": "fd232a3d",
   "metadata": {},
   "outputs": [
    {
     "data": {
      "application/vnd.jupyter.widget-view+json": {
       "model_id": "4081f0a2d7ac48ce9df728322d870ced",
       "version_major": 2,
       "version_minor": 0
      },
      "text/plain": [
       "interactive(children=(SelectMultiple(description='Algorithms', index=(0, 1), options=('SSR', 'SSR var'), value…"
      ]
     },
     "metadata": {},
     "output_type": "display_data"
    }
   ],
   "source": [
    "def view_errors(keys, display_cv, display_10):\n",
    "    color = iter(cm.Dark2(np.linspace(0, 1, len(keys))))\n",
    "    for i, optim in enumerate(keys):\n",
    "        c = next(color)\n",
    "        plt.semilogy(num_terms[optim], errors[optim], 'o-', c=c, label=optim)\n",
    "        if display_cv:\n",
    "            plt.semilogy(num_terms[optim], cvs[optim], '*-', c=c, label=optim+' cv')\n",
    "    plt.grid(which='both')\n",
    "    plt.legend()\n",
    "    if display_10:\n",
    "        plt.xlim(1,10)\n",
    "    plt.show()\n",
    "\n",
    "we = interactive(view_errors, \n",
    "                 keys=widgets.SelectMultiple(\n",
    "                    options=list(errors.keys()),\n",
    "                    value=list(errors.keys()),\n",
    "                    #rows=10,\n",
    "                    description='Algorithms',\n",
    "                    disabled=False\n",
    "                    ),\n",
    "                 display_cv = widgets.Checkbox(\n",
    "                    value=False,\n",
    "                    description='Display cross-validation',\n",
    "                                ),\n",
    "                 display_10 = widgets.Checkbox(\n",
    "                    value=False,\n",
    "                    description='Display up to 10 terms',\n",
    "                                )\n",
    "                )\n",
    "we"
   ]
  },
  {
   "cell_type": "code",
   "execution_count": 29,
   "id": "30945306",
   "metadata": {},
   "outputs": [
    {
     "data": {
      "application/vnd.jupyter.widget-view+json": {
       "model_id": "577dfa7531a4444f821290ed5724a5f6",
       "version_major": 2,
       "version_minor": 0
      },
      "text/plain": [
       "interactive(children=(Dropdown(description='optim', options=('SSR', 'SSR var'), value='SSR'), Dropdown(descrip…"
      ]
     },
     "metadata": {},
     "output_type": "display_data"
    }
   ],
   "source": [
    "def view_model(optim, model):  \n",
    "    print(optim)\n",
    "    model.print(library)\n",
    "    # Plot error dist\n",
    "    y_hat = model.predict(X_train)\n",
    "    \n",
    "    fig, ax = plt.subplots(ncols=2)\n",
    "    \n",
    "    ax[0].plot(y_train, y_train, '-', c='gray')\n",
    "    ax[0].plot(y_train, y_hat, '.', alpha=0.1)\n",
    "    ax[0].set_ylabel('Predicted value')\n",
    "    ax[0].set_xlabel('Training value')\n",
    "    ax[0].set_title('Prediction')\n",
    "    \n",
    "    ax[1].hist(y_train-y_hat, bins=200)\n",
    "    ax[1].set_yscale('log', nonposy='clip')\n",
    "    ax[1].set_title('Residuals')\n",
    "    plt.show()\n",
    "\n",
    "x_widget = widgets.Dropdown(options = list(generated_models.keys()))\n",
    "y_widget = widgets.Dropdown()\n",
    "\n",
    "# Define a function that updates the content of y based on what we select for x\n",
    "def update_models(*args):\n",
    "    y_widget.options = list((model.num_terms, model) for model in generated_models[x_widget.value])\n",
    "x_widget.observe(update_models)\n",
    "\n",
    "\n",
    "wm = interactive(view_model,\n",
    "         optim = x_widget,\n",
    "         model = y_widget)\n",
    "wm"
   ]
  },
  {
   "cell_type": "markdown",
   "id": "698aa7fa",
   "metadata": {},
   "source": []
  }
 ],
 "metadata": {
  "kernelspec": {
   "display_name": "Python 3",
   "language": "python",
   "name": "python3"
  },
  "language_info": {
   "codemirror_mode": {
    "name": "ipython",
    "version": 3
   },
   "file_extension": ".py",
   "mimetype": "text/x-python",
   "name": "python",
   "nbconvert_exporter": "python",
   "pygments_lexer": "ipython3",
   "version": "3.7.8"
  }
 },
 "nbformat": 4,
 "nbformat_minor": 5
}
